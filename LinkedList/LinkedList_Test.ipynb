{
 "cells": [
  {
   "cell_type": "code",
   "execution_count": 1,
   "metadata": {},
   "outputs": [],
   "source": [
    "import sys\n",
    "import pandas as pd\n",
    "import numpy as np\n",
    "import LinkedList_Structure"
   ]
  },
  {
   "cell_type": "code",
   "execution_count": 2,
   "metadata": {},
   "outputs": [],
   "source": [
    "sys.path.insert(0,'../')"
   ]
  },
  {
   "cell_type": "code",
   "execution_count": 3,
   "metadata": {},
   "outputs": [],
   "source": [
    "Sample_data=pd.read_csv('../Sample Data.csv')"
   ]
  },
  {
   "cell_type": "code",
   "execution_count": 4,
   "metadata": {},
   "outputs": [
    {
     "name": "stdout",
     "output_type": "stream",
     "text": [
      "     Sample #             Brand          Parent company  Lead (ppm)\n",
      "0           1        Maybelline             L'Oreal USA       7.190\n",
      "1           2           L'Oreal             L'Oreal USA       7.000\n",
      "2           3              NARS                Shiseido       4.930\n",
      "3           4  Cover Girl Queen        Procter & Gamble       4.920\n",
      "4           5              NARS                Shiseido       4.890\n",
      "..        ...               ...                     ...         ...\n",
      "395       396             M.A.C            Estee Lauder       0.030\n",
      "396       397         Lori Anne              Mood Magic       0.030\n",
      "397       398          Clinique            Estee Lauder       0.026\n",
      "398       399           L'Oreal             L'Oreal USA       0.026\n",
      "399       400        Wet'n'Wild  Markwins International       0.026\n",
      "\n",
      "[400 rows x 4 columns]\n"
     ]
    }
   ],
   "source": [
    "Sample_data=pd.DataFrame(Sample_data)\n",
    "Sample={}\n",
    "print(Sample_data)"
   ]
  },
  {
   "cell_type": "code",
   "execution_count": 5,
   "metadata": {},
   "outputs": [],
   "source": [
    "#Sample_data.drop(columns='Sample #')\n",
    "index=np.arange(1,len(Sample_data)+1,1)\n",
    "Sample_data.index=index\n",
    "Sample_data=Sample_data.drop('Sample #',axis=1)\n",
    "Sample_Data=Sample_data.to_dict('index')\n",
    "#print(Sample_data)"
   ]
  },
  {
   "cell_type": "code",
   "execution_count": 6,
   "metadata": {},
   "outputs": [
    {
     "name": "stdout",
     "output_type": "stream",
     "text": [
      "{1: {'Brand': 'Maybelline', 'Parent company': \"L'Oreal USA\", 'Lead (ppm)': 7.19}, 2: {'Brand': \"L'Oreal\", 'Parent company': \"L'Oreal USA\", 'Lead (ppm)': 7.0}, 3: {'Brand': 'NARS', 'Parent company': 'Shiseido', 'Lead (ppm)': 4.93}, 4: {'Brand': 'Cover Girl Queen', 'Parent company': 'Procter & Gamble', 'Lead (ppm)': 4.92}, 5: {'Brand': 'NARS', 'Parent company': 'Shiseido', 'Lead (ppm)': 4.89}, 6: {'Brand': \"L'Oreal\", 'Parent company': \"L'Oreal USA\", 'Lead (ppm)': 4.45}, 7: {'Brand': \"L'Oreal\", 'Parent company': \"L'Oreal USA\", 'Lead (ppm)': 4.41}, 8: {'Brand': 'Cover Girl', 'Parent company': 'Procter & Gamble', 'Lead (ppm)': 4.28}, 9: {'Brand': 'Maybelline', 'Parent company': \"L'Oreal USA\", 'Lead (ppm)': 4.23}, 10: {'Brand': 'Stargazer', 'Parent company': 'Stargazer', 'Lead (ppm)': 4.12}, 11: {'Brand': 'Stargazer', 'Parent company': 'Stargazer', 'Lead (ppm)': 4.06}, 12: {'Brand': 'Revlon', 'Parent company': 'Revlon', 'Lead (ppm)': 3.32}, 13: {'Brand': 'Sonia Kashuk', 'Parent company': 'Target Corporation', 'Lead (ppm)': 3.12}, 14: {'Brand': 'Avon', 'Parent company': 'Avon', 'Lead (ppm)': 3.08}, 15: {'Brand': \"L'Oreal\", 'Parent company': \"L'Oreal USA\", 'Lead (ppm)': 2.87}, 16: {'Brand': 'Revlon', 'Parent company': 'Revlon', 'Lead (ppm)': 2.84}, 17: {'Brand': \"Burt's Bees\", 'Parent company': 'Clorox Company', 'Lead (ppm)': 2.81}, 18: {'Brand': 'Revlon', 'Parent company': 'Revlon', 'Lead (ppm)': 2.81}, 19: {'Brand': 'Sonia Kashuk', 'Parent company': 'Target Corporation', 'Lead (ppm)': 2.8}, 20: {'Brand': 'Revlon', 'Parent company': 'Revlon', 'Lead (ppm)': 2.77}, 21: {'Brand': 'Cover Girl', 'Parent company': 'Procter & Gamble', 'Lead (ppm)': 2.74}, 22: {'Brand': 'Stargazer', 'Parent company': 'Stargazer', 'Lead (ppm)': 2.71}, 23: {'Brand': 'Fashion Fair', 'Parent company': 'Johnson Publishing Company', 'Lead (ppm)': 2.68}, 24: {'Brand': 'Avon', 'Parent company': 'Avon', 'Lead (ppm)': 2.59}, 25: {'Brand': 'Cover Girl', 'Parent company': 'Procter & Gamble', 'Lead (ppm)': 2.56}, 26: {'Brand': 'Cover Girl', 'Parent company': 'Procter & Gamble', 'Lead (ppm)': 2.52}, 27: {'Brand': 'Revlon', 'Parent company': 'Revlon', 'Lead (ppm)': 2.52}, 28: {'Brand': 'Revlon', 'Parent company': 'Revlon', 'Lead (ppm)': 2.44}, 29: {'Brand': 'Cover Girl', 'Parent company': 'Procter & Gamble', 'Lead (ppm)': 2.42}, 30: {'Brand': 'Revlon', 'Parent company': 'Revlon', 'Lead (ppm)': 2.4}, 31: {'Brand': 'Cover Girl', 'Parent company': 'Procter & Gamble', 'Lead (ppm)': 2.28}, 32: {'Brand': 'Lancome', 'Parent company': \"L'Oreal USA\", 'Lead (ppm)': 2.28}, 33: {'Brand': 'M.A.C', 'Parent company': 'Estee Lauder', 'Lead (ppm)': 2.28}, 34: {'Brand': 'Cover Girl Queen Collection', 'Parent company': 'Procter & Gamble', 'Lead (ppm)': 2.27}, 35: {'Brand': 'Stargazer', 'Parent company': 'Stargazer', 'Lead (ppm)': 2.27}, 36: {'Brand': 'Cover Girl', 'Parent company': 'Procter & Gamble', 'Lead (ppm)': 2.26}, 37: {'Brand': 'Revlon', 'Parent company': 'Revlon', 'Lead (ppm)': 2.25}, 38: {'Brand': \"Burt's Bees\", 'Parent company': 'Clorox Company', 'Lead (ppm)': 2.24}, 39: {'Brand': 'Revlon', 'Parent company': 'Revlon', 'Lead (ppm)': 2.24}, 40: {'Brand': 'Avon', 'Parent company': 'Avon', 'Lead (ppm)': 2.23}, 41: {'Brand': 'Cover Girl Queen Collection', 'Parent company': 'Procter & Gamble', 'Lead (ppm)': 2.22}, 42: {'Brand': 'Almay', 'Parent company': 'Revlon', 'Lead (ppm)': 2.21}, 43: {'Brand': 'Fashion Fair', 'Parent company': 'Johnson Publishing Company', 'Lead (ppm)': 2.18}, 44: {'Brand': 'Revlon', 'Parent company': 'Revlon', 'Lead (ppm)': 2.12}, 45: {'Brand': 'Mary Kay', 'Parent company': 'Mary Kay', 'Lead (ppm)': 2.09}, 46: {'Brand': 'Jafra', 'Parent company': 'Jafra Cosmetics International', 'Lead (ppm)': 2.08}, 47: {'Brand': 'M.A.C', 'Parent company': 'Estee Lauder', 'Lead (ppm)': 2.08}, 48: {'Brand': 'Estee Lauder Prescriptives', 'Parent company': 'Estee Lauder', 'Lead (ppm)': 2.07}, 49: {'Brand': 'Cover Girl', 'Parent company': 'Procter & Gamble', 'Lead (ppm)': 2.0}, 50: {'Brand': 'Cover Girl', 'Parent company': 'Procter & Gamble', 'Lead (ppm)': 2.0}, 51: {'Brand': \"L'Oreal\", 'Parent company': \"L'Oreal USA\", 'Lead (ppm)': 2.0}, 52: {'Brand': 'Rimmel London', 'Parent company': 'Coty', 'Lead (ppm)': 1.98}, 53: {'Brand': 'Stargazer', 'Parent company': 'Stargazer', 'Lead (ppm)': 1.98}, 54: {'Brand': 'Mary Kay', 'Parent company': 'Mary Kay', 'Lead (ppm)': 1.96}, 55: {'Brand': 'Avon', 'Parent company': 'Avon', 'Lead (ppm)': 1.95}, 56: {'Brand': 'Cover Girl', 'Parent company': 'Procter & Gamble', 'Lead (ppm)': 1.94}, 57: {'Brand': 'Maybelline', 'Parent company': \"L'Oreal USA\", 'Lead (ppm)': 1.94}, 58: {'Brand': 'Cover Girl Queen Collection', 'Parent company': 'Procter & Gamble', 'Lead (ppm)': 1.93}, 59: {'Brand': 'Cover Girl', 'Parent company': 'Procter & Gamble', 'Lead (ppm)': 1.92}, 60: {'Brand': 'Revlon', 'Parent company': 'Revlon', 'Lead (ppm)': 1.91}, 61: {'Brand': 'Clarins', 'Parent company': 'Clarins USA', 'Lead (ppm)': 1.88}, 62: {'Brand': 'Revlon', 'Parent company': 'Revlon', 'Lead (ppm)': 1.88}, 63: {'Brand': 'Rimmel London', 'Parent company': 'Coty', 'Lead (ppm)': 1.88}, 64: {'Brand': 'BeneFit', 'Parent company': 'LVMH Perfums & Cosmetics', 'Lead (ppm)': 1.86}, 65: {'Brand': 'Revlon', 'Parent company': 'Revlon', 'Lead (ppm)': 1.85}, 66: {'Brand': 'NARS', 'Parent company': 'Shiseido', 'Lead (ppm)': 1.84}, 67: {'Brand': 'Revlon', 'Parent company': 'Revlon', 'Lead (ppm)': 1.84}, 68: {'Brand': 'Almay', 'Parent company': 'Revlon', 'Lead (ppm)': 1.82}, 69: {'Brand': 'Mary Kay', 'Parent company': 'Mary Kay', 'Lead (ppm)': 1.82}, 70: {'Brand': 'Revlon', 'Parent company': 'Revlon', 'Lead (ppm)': 1.81}, 71: {'Brand': \"L'Oreal\", 'Parent company': \"L'Oreal USA\", 'Lead (ppm)': 1.8}, 72: {'Brand': 'Revlon', 'Parent company': 'Revlon', 'Lead (ppm)': 1.8}, 73: {'Brand': 'Estee Lauder', 'Parent company': 'Estee Lauder', 'Lead (ppm)': 1.78}, 74: {'Brand': 'Maybelline', 'Parent company': \"L'Oreal USA\", 'Lead (ppm)': 1.78}, 75: {'Brand': 'Cover Girl', 'Parent company': 'Procter & Gamble', 'Lead (ppm)': 1.76}, 76: {'Brand': 'Elizabeth Arden', 'Parent company': 'Elizabeth Arden', 'Lead (ppm)': 1.76}, 77: {'Brand': 'Revlon', 'Parent company': 'Revlon', 'Lead (ppm)': 1.75}, 78: {'Brand': 'Revlon', 'Parent company': 'Revlon', 'Lead (ppm)': 1.75}, 79: {'Brand': 'Jafra', 'Parent company': 'Jafra Cosmetics International', 'Lead (ppm)': 1.74}, 80: {'Brand': 'Avon', 'Parent company': 'Avon', 'Lead (ppm)': 1.73}, 81: {'Brand': \"L'Oreal\", 'Parent company': \"L'Oreal USA\", 'Lead (ppm)': 1.72}, 82: {'Brand': 'Maybelline', 'Parent company': \"L'Oreal USA\", 'Lead (ppm)': 1.71}, 83: {'Brand': 'Revlon', 'Parent company': 'Revlon', 'Lead (ppm)': 1.7}, 84: {'Brand': 'Almay', 'Parent company': 'Revlon', 'Lead (ppm)': 1.69}, 85: {'Brand': 'Gabriel', 'Parent company': 'Gabriel Cosmetics', 'Lead (ppm)': 1.69}, 86: {'Brand': 'Gabriel', 'Parent company': 'Gabriel Cosmetics', 'Lead (ppm)': 1.69}, 87: {'Brand': \"L'Oreal\", 'Parent company': \"L'Oreal USA\", 'Lead (ppm)': 1.69}, 88: {'Brand': \"L'Oreal\", 'Parent company': \"L'Oreal USA\", 'Lead (ppm)': 1.69}, 89: {'Brand': 'NARS', 'Parent company': 'Shiseido', 'Lead (ppm)': 1.69}, 90: {'Brand': \"L'Oreal\", 'Parent company': \"L'Oreal USA\", 'Lead (ppm)': 1.63}, 91: {'Brand': 'Maybelline', 'Parent company': \"L'Oreal USA\", 'Lead (ppm)': 1.61}, 92: {'Brand': 'Revlon', 'Parent company': 'Revlon', 'Lead (ppm)': 1.61}, 93: {'Brand': 'M.A.C', 'Parent company': 'Estee Lauder', 'Lead (ppm)': 1.57}, 94: {'Brand': 'Stargazer', 'Parent company': 'Stargazer', 'Lead (ppm)': 1.57}, 95: {'Brand': 'Dior', 'Parent company': 'LVMH Perfums & Cosmetics', 'Lead (ppm)': 1.56}, 96: {'Brand': 'Revlon', 'Parent company': 'Revlon', 'Lead (ppm)': 1.55}, 97: {'Brand': 'Revlon', 'Parent company': 'Revlon', 'Lead (ppm)': 1.54}, 98: {'Brand': 'BeneFit', 'Parent company': 'LVMH Perfums & Cosmetics', 'Lead (ppm)': 1.53}, 99: {'Brand': 'Stargazer', 'Parent company': 'Stargazer', 'Lead (ppm)': 1.53}, 100: {'Brand': 'Estee Lauder Prescriptives', 'Parent company': 'Estee Lauder', 'Lead (ppm)': 1.5}, 101: {'Brand': 'M.A.C', 'Parent company': 'Estee Lauder', 'Lead (ppm)': 1.49}, 102: {'Brand': 'Mary Kay', 'Parent company': 'Mary Kay', 'Lead (ppm)': 1.49}, 103: {'Brand': 'Maybelline', 'Parent company': \"L'Oreal USA\", 'Lead (ppm)': 1.48}, 104: {'Brand': 'Maybelline', 'Parent company': \"L'Oreal USA\", 'Lead (ppm)': 1.47}, 105: {'Brand': 'Maybelline', 'Parent company': \"L'Oreal USA\", 'Lead (ppm)': 1.46}, 106: {'Brand': 'Revlon', 'Parent company': 'Revlon', 'Lead (ppm)': 1.46}, 107: {'Brand': 'Avon', 'Parent company': 'Avon', 'Lead (ppm)': 1.45}, 108: {'Brand': \"L'Oreal\", 'Parent company': \"L'Oreal USA\", 'Lead (ppm)': 1.45}, 109: {'Brand': \"L'Oreal\", 'Parent company': \"L'Oreal USA\", 'Lead (ppm)': 1.44}, 110: {'Brand': 'Maybelline', 'Parent company': \"L'Oreal USA\", 'Lead (ppm)': 1.41}, 111: {'Brand': 'Almay', 'Parent company': 'Revlon', 'Lead (ppm)': 1.4}, 112: {'Brand': 'Avon', 'Parent company': 'Avon', 'Lead (ppm)': 1.39}, 113: {'Brand': 'Mary Kay', 'Parent company': 'Mary Kay', 'Lead (ppm)': 1.39}, 114: {'Brand': 'Colorganics', 'Parent company': 'Colorganics', 'Lead (ppm)': 1.38}, 115: {'Brand': \"L'Oreal\", 'Parent company': \"L'Oreal USA\", 'Lead (ppm)': 1.38}, 116: {'Brand': 'Stargazer', 'Parent company': 'Stargazer', 'Lead (ppm)': 1.38}, 117: {'Brand': 'Estee Lauder', 'Parent company': 'Estee Lauder', 'Lead (ppm)': 1.37}, 118: {'Brand': 'Maybelline', 'Parent company': \"L'Oreal USA\", 'Lead (ppm)': 1.37}, 119: {'Brand': 'Colorganics', 'Parent company': 'Colorganics', 'Lead (ppm)': 1.36}, 120: {'Brand': 'Estee Lauder', 'Parent company': 'Estee Lauder', 'Lead (ppm)': 1.35}, 121: {'Brand': 'Almay', 'Parent company': 'Revlon', 'Lead (ppm)': 1.34}, 122: {'Brand': 'Lancome', 'Parent company': \"L'Oreal USA\", 'Lead (ppm)': 1.34}, 123: {'Brand': 'M.A.C', 'Parent company': 'Estee Lauder', 'Lead (ppm)': 1.34}, 124: {'Brand': 'Clinique', 'Parent company': 'Estee Lauder', 'Lead (ppm)': 1.33}, 125: {'Brand': 'Estee Lauder', 'Parent company': 'Estee Lauder', 'Lead (ppm)': 1.32}, 126: {'Brand': 'Revlon', 'Parent company': 'Revlon', 'Lead (ppm)': 1.32}, 127: {'Brand': 'Estee Lauder Origins', 'Parent company': 'Estee Lauder', 'Lead (ppm)': 1.31}, 128: {'Brand': 'Lancome', 'Parent company': \"L'Oreal USA\", 'Lead (ppm)': 1.31}, 129: {'Brand': 'Mary Kay', 'Parent company': 'Mary Kay', 'Lead (ppm)': 1.3}, 130: {'Brand': 'Revlon', 'Parent company': 'Revlon', 'Lead (ppm)': 1.28}, 131: {'Brand': 'Elizabeth Arden', 'Parent company': 'Elizabeth Arden', 'Lead (ppm)': 1.27}, 132: {'Brand': 'Almay', 'Parent company': 'Revlon', 'Lead (ppm)': 1.26}, 133: {'Brand': 'Mary Kay', 'Parent company': 'Mary Kay', 'Lead (ppm)': 1.26}, 134: {'Brand': 'Clinique', 'Parent company': 'Estee Lauder', 'Lead (ppm)': 1.24}, 135: {'Brand': 'Clinique', 'Parent company': 'Estee Lauder', 'Lead (ppm)': 1.24}, 136: {'Brand': \"Victoria's Secret\", 'Parent company': 'Limited Brands', 'Lead (ppm)': 1.23}, 137: {'Brand': 'Almay', 'Parent company': 'Revlon', 'Lead (ppm)': 1.22}, 138: {'Brand': \"L'Oreal\", 'Parent company': \"L'Oreal USA\", 'Lead (ppm)': 1.21}, 139: {'Brand': 'Chanel', 'Parent company': 'Chanel', 'Lead (ppm)': 1.2}, 140: {'Brand': 'Lancome', 'Parent company': \"L'Oreal USA\", 'Lead (ppm)': 1.2}, 141: {'Brand': \"Victoria's Secret\", 'Parent company': 'Limited Brands', 'Lead (ppm)': 1.19}, 142: {'Brand': 'Clinique', 'Parent company': 'Estee Lauder', 'Lead (ppm)': 1.18}, 143: {'Brand': 'Lancome', 'Parent company': \"L'Oreal USA\", 'Lead (ppm)': 1.18}, 144: {'Brand': 'Revlon', 'Parent company': 'Revlon', 'Lead (ppm)': 1.18}, 145: {'Brand': \"Victoria's Secret\", 'Parent company': 'Limited Brands', 'Lead (ppm)': 1.18}, 146: {'Brand': 'Fashion Fair', 'Parent company': 'Johnson Publishing Company', 'Lead (ppm)': 1.17}, 147: {'Brand': 'Iman Cosmetics', 'Parent company': 'Iman Cosmetics', 'Lead (ppm)': 1.17}, 148: {'Brand': 'Clinique', 'Parent company': 'Estee Lauder', 'Lead (ppm)': 1.15}, 149: {'Brand': 'Mary Kay', 'Parent company': 'Mary Kay', 'Lead (ppm)': 1.15}, 150: {'Brand': \"Victoria's Secret\", 'Parent company': 'Limited Brands', 'Lead (ppm)': 1.15}, 151: {'Brand': 'Clinique', 'Parent company': 'Estee Lauder', 'Lead (ppm)': 1.13}, 152: {'Brand': 'Lancome', 'Parent company': \"L'Oreal USA\", 'Lead (ppm)': 1.13}, 153: {'Brand': 'Almay', 'Parent company': 'Revlon', 'Lead (ppm)': 1.12}, 154: {'Brand': 'Lancome', 'Parent company': \"L'Oreal USA\", 'Lead (ppm)': 1.11}, 155: {'Brand': 'Chanel', 'Parent company': 'Chanel', 'Lead (ppm)': 1.1}, 156: {'Brand': 'Stargazer', 'Parent company': 'Stargazer', 'Lead (ppm)': 1.1}, 157: {'Brand': 'Clarins', 'Parent company': 'Clarins USA', 'Lead (ppm)': 1.08}, 158: {'Brand': \"L'Oreal\", 'Parent company': \"L'Oreal USA\", 'Lead (ppm)': 1.08}, 159: {'Brand': 'M.A.C', 'Parent company': 'Estee Lauder', 'Lead (ppm)': 1.08}, 160: {'Brand': 'Avon', 'Parent company': 'Avon', 'Lead (ppm)': 1.07}, 161: {'Brand': 'Clinique', 'Parent company': 'Estee Lauder', 'Lead (ppm)': 1.07}, 162: {'Brand': 'Lancome', 'Parent company': \"L'Oreal USA\", 'Lead (ppm)': 1.07}, 163: {'Brand': 'Revlon', 'Parent company': 'Revlon', 'Lead (ppm)': 1.06}, 164: {'Brand': 'Chanel', 'Parent company': 'Chanel', 'Lead (ppm)': 1.05}, 165: {'Brand': 'Estee Lauder Prescriptives', 'Parent company': 'Estee Lauder', 'Lead (ppm)': 1.04}, 166: {'Brand': \"L'Oreal\", 'Parent company': \"L'Oreal USA\", 'Lead (ppm)': 1.04}, 167: {'Brand': 'Revlon', 'Parent company': 'Revlon', 'Lead (ppm)': 1.04}, 168: {'Brand': 'M.A.C', 'Parent company': 'Estee Lauder', 'Lead (ppm)': 1.03}, 169: {'Brand': 'Maybelline', 'Parent company': \"L'Oreal USA\", 'Lead (ppm)': 1.03}, 170: {'Brand': 'Stargazer', 'Parent company': 'Stargazer', 'Lead (ppm)': 1.03}, 171: {'Brand': 'BeneFit', 'Parent company': 'LVMH Perfums & Cosmetics', 'Lead (ppm)': 1.02}, 172: {'Brand': 'Iman Cosmetics', 'Parent company': 'Iman Cosmetics', 'Lead (ppm)': 1.02}, 173: {'Brand': 'Mary Kay', 'Parent company': 'Mary Kay', 'Lead (ppm)': 1.02}, 174: {'Brand': 'Estee Lauder', 'Parent company': 'Estee Lauder', 'Lead (ppm)': 1.01}, 175: {'Brand': 'Clinique', 'Parent company': 'Estee Lauder', 'Lead (ppm)': 1.0}, 176: {'Brand': 'Lancome', 'Parent company': \"L'Oreal USA\", 'Lead (ppm)': 1.0}, 177: {'Brand': 'M.A.C', 'Parent company': 'Estee Lauder', 'Lead (ppm)': 1.0}, 178: {'Brand': 'Mary Kay', 'Parent company': 'Mary Kay', 'Lead (ppm)': 0.97}, 179: {'Brand': 'Estee Lauder', 'Parent company': 'Estee Lauder', 'Lead (ppm)': 0.96}, 180: {'Brand': 'Lancome', 'Parent company': \"L'Oreal USA\", 'Lead (ppm)': 0.96}, 181: {'Brand': 'Bobbi Brown', 'Parent company': 'Estee Lauder', 'Lead (ppm)': 0.95}, 182: {'Brand': 'Clinique', 'Parent company': 'Estee Lauder', 'Lead (ppm)': 0.95}, 183: {'Brand': 'M.A.C', 'Parent company': 'Estee Lauder', 'Lead (ppm)': 0.95}, 184: {'Brand': 'NARS', 'Parent company': 'Shiseido', 'Lead (ppm)': 0.95}, 185: {'Brand': 'Revlon', 'Parent company': 'Revlon', 'Lead (ppm)': 0.95}, 186: {'Brand': 'Stargazer', 'Parent company': 'Stargazer', 'Lead (ppm)': 0.95}, 187: {'Brand': 'Estee Lauder', 'Parent company': 'Estee Lauder', 'Lead (ppm)': 0.94}, 188: {'Brand': 'Avon', 'Parent company': 'Avon', 'Lead (ppm)': 0.93}, 189: {'Brand': 'Maybelline', 'Parent company': \"L'Oreal USA\", 'Lead (ppm)': 0.93}, 190: {'Brand': 'Rimmel London', 'Parent company': 'Coty', 'Lead (ppm)': 0.93}, 191: {'Brand': 'M.A.C', 'Parent company': 'Estee Lauder', 'Lead (ppm)': 0.92}, 192: {'Brand': 'Mary Kay', 'Parent company': 'Mary Kay', 'Lead (ppm)': 0.92}, 193: {'Brand': 'Stargazer', 'Parent company': 'Stargazer', 'Lead (ppm)': 0.92}, 194: {'Brand': 'Clinique', 'Parent company': 'Estee Lauder', 'Lead (ppm)': 0.91}, 195: {'Brand': 'Lancome', 'Parent company': \"L'Oreal USA\", 'Lead (ppm)': 0.91}, 196: {'Brand': 'Mary Kay', 'Parent company': 'Mary Kay', 'Lead (ppm)': 0.91}, 197: {'Brand': 'Maybelline', 'Parent company': \"L'Oreal USA\", 'Lead (ppm)': 0.91}, 198: {'Brand': 'Elizabeth Arden', 'Parent company': 'Elizabeth Arden', 'Lead (ppm)': 0.9}, 199: {'Brand': 'Maybelline', 'Parent company': \"L'Oreal USA\", 'Lead (ppm)': 0.9}, 200: {'Brand': 'Estee Lauder', 'Parent company': 'Estee Lauder', 'Lead (ppm)': 0.89}, 201: {'Brand': 'Maybelline', 'Parent company': \"L'Oreal USA\", 'Lead (ppm)': 0.89}, 202: {'Brand': 'Chanel', 'Parent company': 'Chanel', 'Lead (ppm)': 0.88}, 203: {'Brand': 'Estee Lauder', 'Parent company': 'Estee Lauder', 'Lead (ppm)': 0.88}, 204: {'Brand': 'Clinique', 'Parent company': 'Estee Lauder', 'Lead (ppm)': 0.86}, 205: {'Brand': 'Elizabeth Arden', 'Parent company': 'Elizabeth Arden', 'Lead (ppm)': 0.86}, 206: {'Brand': \"L'Oreal\", 'Parent company': \"L'Oreal USA\", 'Lead (ppm)': 0.86}, 207: {'Brand': 'Mary Kay', 'Parent company': 'Mary Kay', 'Lead (ppm)': 0.86}, 208: {'Brand': 'Clarins', 'Parent company': 'Clarins USA', 'Lead (ppm)': 0.85}, 209: {'Brand': 'Chanel', 'Parent company': 'Chanel', 'Lead (ppm)': 0.84}, 210: {'Brand': 'Clinique', 'Parent company': 'Estee Lauder', 'Lead (ppm)': 0.84}, 211: {'Brand': 'Estee Lauder', 'Parent company': 'Estee Lauder', 'Lead (ppm)': 0.84}, 212: {'Brand': 'Estee Lauder', 'Parent company': 'Estee Lauder', 'Lead (ppm)': 0.83}, 213: {'Brand': 'Mary Kay', 'Parent company': 'Mary Kay', 'Lead (ppm)': 0.83}, 214: {'Brand': 'Clinique', 'Parent company': 'Estee Lauder', 'Lead (ppm)': 0.82}, 215: {'Brand': 'Dior', 'Parent company': 'LVMH Perfums & Cosmetics', 'Lead (ppm)': 0.82}, 216: {'Brand': \"L'Oreal\", 'Parent company': \"L'Oreal USA\", 'Lead (ppm)': 0.82}, 217: {'Brand': \"L'Oreal\", 'Parent company': \"L'Oreal USA\", 'Lead (ppm)': 0.82}, 218: {'Brand': 'Clinique', 'Parent company': 'Estee Lauder', 'Lead (ppm)': 0.81}, 219: {'Brand': 'Stargazer', 'Parent company': 'Stargazer', 'Lead (ppm)': 0.81}, 220: {'Brand': 'Estee Lauder', 'Parent company': 'Estee Lauder', 'Lead (ppm)': 0.8}, 221: {'Brand': 'Estee Lauder', 'Parent company': 'Estee Lauder', 'Lead (ppm)': 0.8}, 222: {'Brand': 'Iman Cosmetics', 'Parent company': 'Iman Cosmetics', 'Lead (ppm)': 0.8}, 223: {'Brand': 'Mary Kay', 'Parent company': 'Mary Kay', 'Lead (ppm)': 0.8}, 224: {'Brand': 'Lancome', 'Parent company': \"L'Oreal USA\", 'Lead (ppm)': 0.79}, 225: {'Brand': 'Bobbi Brown', 'Parent company': 'Estee Lauder', 'Lead (ppm)': 0.78}, 226: {'Brand': 'Estee Lauder', 'Parent company': 'Estee Lauder', 'Lead (ppm)': 0.78}, 227: {'Brand': 'Estee Lauder Origins', 'Parent company': 'Estee Lauder', 'Lead (ppm)': 0.78}, 228: {'Brand': 'Estee Lauder', 'Parent company': 'Estee Lauder', 'Lead (ppm)': 0.77}, 229: {'Brand': \"Burt's Bees\", 'Parent company': 'Clorox Company', 'Lead (ppm)': 0.76}, 230: {'Brand': \"L'Oreal\", 'Parent company': \"L'Oreal USA\", 'Lead (ppm)': 0.76}, 231: {'Brand': 'Maybelline', 'Parent company': \"L'Oreal USA\", 'Lead (ppm)': 0.76}, 232: {'Brand': 'Cover Girl Queen Collection', 'Parent company': 'Procter & Gamble', 'Lead (ppm)': 0.75}, 233: {'Brand': 'Estee Lauder', 'Parent company': 'Estee Lauder', 'Lead (ppm)': 0.75}, 234: {'Brand': 'Mary Kay', 'Parent company': 'Mary Kay', 'Lead (ppm)': 0.75}, 235: {'Brand': 'Clinique', 'Parent company': 'Estee Lauder', 'Lead (ppm)': 0.74}, 236: {'Brand': 'Estee Lauder', 'Parent company': 'Estee Lauder', 'Lead (ppm)': 0.74}, 237: {'Brand': 'M.A.C', 'Parent company': 'Estee Lauder', 'Lead (ppm)': 0.74}, 238: {'Brand': 'Mary Kay', 'Parent company': 'Mary Kay', 'Lead (ppm)': 0.74}, 239: {'Brand': 'Lancome', 'Parent company': \"L'Oreal USA\", 'Lead (ppm)': 0.73}, 240: {'Brand': \"L'Oreal\", 'Parent company': \"L'Oreal USA\", 'Lead (ppm)': 0.73}, 241: {'Brand': 'Mary Kay', 'Parent company': 'Mary Kay', 'Lead (ppm)': 0.72}, 242: {'Brand': 'Stargazer', 'Parent company': 'Stargazer', 'Lead (ppm)': 0.72}, 243: {'Brand': 'Chanel', 'Parent company': 'Chanel', 'Lead (ppm)': 0.7}, 244: {'Brand': 'Mary Kay', 'Parent company': 'Mary Kay', 'Lead (ppm)': 0.7}, 245: {'Brand': 'Rimmel London', 'Parent company': 'Coty', 'Lead (ppm)': 0.7}, 246: {'Brand': 'Lancome', 'Parent company': \"L'Oreal USA\", 'Lead (ppm)': 0.69}, 247: {'Brand': 'Lancome', 'Parent company': \"L'Oreal USA\", 'Lead (ppm)': 0.69}, 248: {'Brand': \"L'Oreal\", 'Parent company': \"L'Oreal USA\", 'Lead (ppm)': 0.69}, 249: {'Brand': 'M.A.C', 'Parent company': 'Estee Lauder', 'Lead (ppm)': 0.69}, 250: {'Brand': 'Elizabeth Arden', 'Parent company': 'Elizabeth Arden', 'Lead (ppm)': 0.68}, 251: {'Brand': 'Revlon', 'Parent company': 'Revlon', 'Lead (ppm)': 0.68}, 252: {'Brand': 'Estee Lauder', 'Parent company': 'Estee Lauder', 'Lead (ppm)': 0.67}, 253: {'Brand': \"L'Oreal\", 'Parent company': \"L'Oreal USA\", 'Lead (ppm)': 0.66}, 254: {'Brand': \"Victoria's Secret\", 'Parent company': 'Limited Brands', 'Lead (ppm)': 0.66}, 255: {'Brand': 'Rimmel London', 'Parent company': 'Coty', 'Lead (ppm)': 0.64}, 256: {'Brand': 'Mary Kay', 'Parent company': 'Mary Kay', 'Lead (ppm)': 0.63}, 257: {'Brand': 'Revlon', 'Parent company': 'Revlon', 'Lead (ppm)': 0.63}, 258: {'Brand': 'M.A.C', 'Parent company': 'Estee Lauder', 'Lead (ppm)': 0.62}, 259: {'Brand': 'M.A.C', 'Parent company': 'Estee Lauder', 'Lead (ppm)': 0.62}, 260: {'Brand': 'Mary Kay', 'Parent company': 'Mary Kay', 'Lead (ppm)': 0.61}, 261: {'Brand': 'Stargazer', 'Parent company': 'Stargazer', 'Lead (ppm)': 0.61}, 262: {'Brand': 'Estee Lauder', 'Parent company': 'Estee Lauder', 'Lead (ppm)': 0.6}, 263: {'Brand': 'M.A.C', 'Parent company': 'Estee Lauder', 'Lead (ppm)': 0.6}, 264: {'Brand': 'Mary Kay', 'Parent company': 'Mary Kay', 'Lead (ppm)': 0.6}, 265: {'Brand': 'Mary Kay', 'Parent company': 'Mary Kay', 'Lead (ppm)': 0.6}, 266: {'Brand': 'Chanel', 'Parent company': 'Chanel', 'Lead (ppm)': 0.59}, 267: {'Brand': 'Chanel', 'Parent company': 'Chanel', 'Lead (ppm)': 0.59}, 268: {'Brand': 'Maybelline', 'Parent company': \"L'Oreal USA\", 'Lead (ppm)': 0.59}, 269: {'Brand': 'Avon', 'Parent company': 'Avon', 'Lead (ppm)': 0.58}, 270: {'Brand': 'Avon', 'Parent company': 'Avon', 'Lead (ppm)': 0.58}, 271: {'Brand': 'Chanel', 'Parent company': 'Chanel', 'Lead (ppm)': 0.58}, 272: {'Brand': 'Clinique', 'Parent company': 'Estee Lauder', 'Lead (ppm)': 0.58}, 273: {'Brand': 'Clinique', 'Parent company': 'Estee Lauder', 'Lead (ppm)': 0.57}, 274: {'Brand': 'Mary Kay', 'Parent company': 'Mary Kay', 'Lead (ppm)': 0.57}, 275: {'Brand': 'Avon', 'Parent company': 'Avon', 'Lead (ppm)': 0.56}, 276: {'Brand': 'M.A.C', 'Parent company': 'Estee Lauder', 'Lead (ppm)': 0.56}, 277: {'Brand': 'Avon', 'Parent company': 'Avon', 'Lead (ppm)': 0.55}, 278: {'Brand': 'Maybelline', 'Parent company': \"L'Oreal USA\", 'Lead (ppm)': 0.55}, 279: {'Brand': 'Estee Lauder Prescriptives', 'Parent company': 'Estee Lauder', 'Lead (ppm)': 0.54}, 280: {'Brand': 'Chanel', 'Parent company': 'Chanel', 'Lead (ppm)': 0.53}, 281: {'Brand': 'M.A.C', 'Parent company': 'Estee Lauder', 'Lead (ppm)': 0.53}, 282: {'Brand': 'Clarins', 'Parent company': 'Clarins USA', 'Lead (ppm)': 0.52}, 283: {'Brand': 'Clinique', 'Parent company': 'Estee Lauder', 'Lead (ppm)': 0.52}, 284: {'Brand': 'Lancome', 'Parent company': \"L'Oreal USA\", 'Lead (ppm)': 0.52}, 285: {'Brand': 'M.A.C', 'Parent company': 'Estee Lauder', 'Lead (ppm)': 0.52}, 286: {'Brand': 'Maybelline', 'Parent company': \"L'Oreal USA\", 'Lead (ppm)': 0.52}, 287: {'Brand': 'Lancome', 'Parent company': \"L'Oreal USA\", 'Lead (ppm)': 0.51}, 288: {'Brand': 'Chanel', 'Parent company': 'Chanel', 'Lead (ppm)': 0.5}, 289: {'Brand': 'Estee Lauder', 'Parent company': 'Estee Lauder', 'Lead (ppm)': 0.5}, 290: {'Brand': 'Estee Lauder', 'Parent company': 'Estee Lauder', 'Lead (ppm)': 0.5}, 291: {'Brand': 'Avon', 'Parent company': 'Avon', 'Lead (ppm)': 0.49}, 292: {'Brand': 'Cover Girl Queen Collection', 'Parent company': 'Procter & Gamble', 'Lead (ppm)': 0.49}, 293: {'Brand': 'BeneFit', 'Parent company': 'LVMH Perfums & Cosmetics', 'Lead (ppm)': 0.48}, 294: {'Brand': 'Estee Lauder Prescriptives', 'Parent company': 'Estee Lauder', 'Lead (ppm)': 0.48}, 295: {'Brand': 'Avon', 'Parent company': 'Avon', 'Lead (ppm)': 0.47}, 296: {'Brand': 'Iman Cosmetics', 'Parent company': 'Iman Cosmetics', 'Lead (ppm)': 0.47}, 297: {'Brand': \"Wet 'n' Wild\", 'Parent company': 'Markwins International', 'Lead (ppm)': 0.47}, 298: {'Brand': 'Clinique', 'Parent company': 'Estee Lauder', 'Lead (ppm)': 0.46}, 299: {'Brand': 'Estee Lauder', 'Parent company': 'Estee Lauder', 'Lead (ppm)': 0.45}, 300: {'Brand': 'M.A.C', 'Parent company': 'Estee Lauder', 'Lead (ppm)': 0.45}, 301: {'Brand': 'Revlon', 'Parent company': 'Revlon', 'Lead (ppm)': 0.44}, 302: {'Brand': 'Shiseido', 'Parent company': 'Shiseido', 'Lead (ppm)': 0.44}, 303: {'Brand': \"Burt's Bees\", 'Parent company': 'Clorox Company', 'Lead (ppm)': 0.43}, 304: {'Brand': 'Clinique', 'Parent company': 'Estee Lauder', 'Lead (ppm)': 0.43}, 305: {'Brand': 'Clinique', 'Parent company': 'Estee Lauder', 'Lead (ppm)': 0.43}, 306: {'Brand': 'Lancome', 'Parent company': \"L'Oreal USA\", 'Lead (ppm)': 0.43}, 307: {'Brand': 'M.A.C', 'Parent company': 'Estee Lauder', 'Lead (ppm)': 0.41}, 308: {'Brand': 'M.A.C', 'Parent company': 'Estee Lauder', 'Lead (ppm)': 0.41}, 309: {'Brand': 'Bobbi Brown', 'Parent company': 'Estee Lauder', 'Lead (ppm)': 0.4}, 310: {'Brand': 'Clinique', 'Parent company': 'Estee Lauder', 'Lead (ppm)': 0.4}, 311: {'Brand': 'Cover Girl Queen Collection', 'Parent company': 'Procter & Gamble', 'Lead (ppm)': 0.4}, 312: {'Brand': 'M.A.C', 'Parent company': 'Estee Lauder', 'Lead (ppm)': 0.4}, 313: {'Brand': 'Clinique', 'Parent company': 'Estee Lauder', 'Lead (ppm)': 0.39}, 314: {'Brand': 'Estee Lauder Origins', 'Parent company': 'Estee Lauder', 'Lead (ppm)': 0.39}, 315: {'Brand': 'M.A.C', 'Parent company': 'Estee Lauder', 'Lead (ppm)': 0.39}, 316: {'Brand': 'M.A.C', 'Parent company': 'Estee Lauder', 'Lead (ppm)': 0.39}, 317: {'Brand': 'Maybelline', 'Parent company': \"L'Oreal USA\", 'Lead (ppm)': 0.39}, 318: {'Brand': 'Shiseido', 'Parent company': 'Shiseido', 'Lead (ppm)': 0.39}, 319: {'Brand': 'Estee Lauder', 'Parent company': 'Estee Lauder', 'Lead (ppm)': 0.38}, 320: {'Brand': 'Avon', 'Parent company': 'Avon', 'Lead (ppm)': 0.37}, 321: {'Brand': 'M.A.C', 'Parent company': 'Estee Lauder', 'Lead (ppm)': 0.37}, 322: {'Brand': 'M.A.C', 'Parent company': 'Estee Lauder', 'Lead (ppm)': 0.37}, 323: {'Brand': 'Clarins', 'Parent company': 'Clarins USA', 'Lead (ppm)': 0.35}, 324: {'Brand': \"Victoria's Secret\", 'Parent company': 'Limited Brands', 'Lead (ppm)': 0.35}, 325: {'Brand': 'Estee Lauder', 'Parent company': 'Estee Lauder', 'Lead (ppm)': 0.33}, 326: {'Brand': 'Shiseido', 'Parent company': 'Shiseido', 'Lead (ppm)': 0.32}, 327: {'Brand': 'Stargazer', 'Parent company': 'Stargazer', 'Lead (ppm)': 0.32}, 328: {'Brand': \"Wet 'n' Wild\", 'Parent company': 'Markwins International', 'Lead (ppm)': 0.32}, 329: {'Brand': 'Clinique', 'Parent company': 'Estee Lauder', 'Lead (ppm)': 0.31}, 330: {'Brand': 'Dior', 'Parent company': 'LVMH Perfums & Cosmetics', 'Lead (ppm)': 0.31}, 331: {'Brand': 'M.A.C', 'Parent company': 'Estee Lauder', 'Lead (ppm)': 0.31}, 332: {'Brand': 'Avon', 'Parent company': 'Avon', 'Lead (ppm)': 0.3}, 333: {'Brand': \"L'Oreal\", 'Parent company': \"L'Oreal USA\", 'Lead (ppm)': 0.3}, 334: {'Brand': 'M.A.C', 'Parent company': 'Estee Lauder', 'Lead (ppm)': 0.3}, 335: {'Brand': 'Stargazer', 'Parent company': 'Stargazer', 'Lead (ppm)': 0.3}, 336: {'Brand': 'Clinique', 'Parent company': 'Estee Lauder', 'Lead (ppm)': 0.29}, 337: {'Brand': 'Lancome', 'Parent company': \"L'Oreal USA\", 'Lead (ppm)': 0.29}, 338: {'Brand': \"L'Oreal\", 'Parent company': \"L'Oreal USA\", 'Lead (ppm)': 0.29}, 339: {'Brand': 'Mary Kay', 'Parent company': 'Mary Kay', 'Lead (ppm)': 0.29}, 340: {'Brand': 'Cover Girl', 'Parent company': 'Procter & Gamble', 'Lead (ppm)': 0.28}, 341: {'Brand': 'Maybelline', 'Parent company': \"L'Oreal USA\", 'Lead (ppm)': 0.28}, 342: {'Brand': 'Revlon', 'Parent company': 'Revlon', 'Lead (ppm)': 0.28}, 343: {'Brand': 'Clinique', 'Parent company': 'Estee Lauder', 'Lead (ppm)': 0.27}, 344: {'Brand': 'Lancome', 'Parent company': \"L'Oreal USA\", 'Lead (ppm)': 0.27}, 345: {'Brand': 'M.A.C', 'Parent company': 'Estee Lauder', 'Lead (ppm)': 0.27}, 346: {'Brand': 'Lancome', 'Parent company': \"L'Oreal USA\", 'Lead (ppm)': 0.26}, 347: {'Brand': 'Clinique', 'Parent company': 'Estee Lauder', 'Lead (ppm)': 0.25}, 348: {'Brand': 'M.A.C', 'Parent company': 'Estee Lauder', 'Lead (ppm)': 0.25}, 349: {'Brand': 'M.A.C', 'Parent company': 'Estee Lauder', 'Lead (ppm)': 0.24}, 350: {'Brand': 'Clinique', 'Parent company': 'Estee Lauder', 'Lead (ppm)': 0.23}, 351: {'Brand': 'Lancome', 'Parent company': \"L'Oreal USA\", 'Lead (ppm)': 0.23}, 352: {'Brand': 'M.A.C', 'Parent company': 'Estee Lauder', 'Lead (ppm)': 0.23}, 353: {'Brand': 'Maybelline', 'Parent company': \"L'Oreal USA\", 'Lead (ppm)': 0.23}, 354: {'Brand': 'NARS', 'Parent company': 'Shiseido', 'Lead (ppm)': 0.23}, 355: {'Brand': 'Bobbi Brown', 'Parent company': 'Estee Lauder', 'Lead (ppm)': 0.22}, 356: {'Brand': 'Clinique', 'Parent company': 'Estee Lauder', 'Lead (ppm)': 0.22}, 357: {'Brand': \"Wet 'n' Wild\", 'Parent company': 'Markwins International', 'Lead (ppm)': 0.22}, 358: {'Brand': 'Avon', 'Parent company': 'Avon', 'Lead (ppm)': 0.21}, 359: {'Brand': 'Clinique', 'Parent company': 'Estee Lauder', 'Lead (ppm)': 0.2}, 360: {'Brand': 'Estee Lauder Origins', 'Parent company': 'Estee Lauder', 'Lead (ppm)': 0.2}, 361: {'Brand': 'Lancome', 'Parent company': \"L'Oreal USA\", 'Lead (ppm)': 0.2}, 362: {'Brand': 'Lancome', 'Parent company': \"L'Oreal USA\", 'Lead (ppm)': 0.2}, 363: {'Brand': 'M.A.C', 'Parent company': 'Estee Lauder', 'Lead (ppm)': 0.2}, 364: {'Brand': 'Avon', 'Parent company': 'Avon', 'Lead (ppm)': 0.18}, 365: {'Brand': 'Cover Girl', 'Parent company': 'Procter & Gamble', 'Lead (ppm)': 0.18}, 366: {'Brand': 'Clinique', 'Parent company': 'Estee Lauder', 'Lead (ppm)': 0.17}, 367: {'Brand': 'Lancome', 'Parent company': \"L'Oreal USA\", 'Lead (ppm)': 0.17}, 368: {'Brand': 'Elizabeth Arden', 'Parent company': 'Elizabeth Arden', 'Lead (ppm)': 0.16}, 369: {'Brand': \"L'Oreal\", 'Parent company': \"L'Oreal USA\", 'Lead (ppm)': 0.16}, 370: {'Brand': 'M.A.C', 'Parent company': 'Estee Lauder', 'Lead (ppm)': 0.15}, 371: {'Brand': 'M.A.C Dsquared2', 'Parent company': 'Estee Lauder', 'Lead (ppm)': 0.15}, 372: {'Brand': 'Stargazer', 'Parent company': 'Stargazer', 'Lead (ppm)': 0.15}, 373: {'Brand': \"L'Oreal\", 'Parent company': \"L'Oreal USA\", 'Lead (ppm)': 0.14}, 374: {'Brand': 'Iman Cosmetics', 'Parent company': 'Iman Cosmetics', 'Lead (ppm)': 0.13}, 375: {'Brand': 'M.A.C', 'Parent company': 'Estee Lauder', 'Lead (ppm)': 0.13}, 376: {'Brand': \"Wet 'n' Wild\", 'Parent company': 'Markwins International', 'Lead (ppm)': 0.13}, 377: {'Brand': 'Avon', 'Parent company': 'Avon', 'Lead (ppm)': 0.12}, 378: {'Brand': 'Bobbi Brown', 'Parent company': 'Estee Lauder', 'Lead (ppm)': 0.12}, 379: {'Brand': 'M.A.C', 'Parent company': 'Estee Lauder', 'Lead (ppm)': 0.12}, 380: {'Brand': 'M.A.C', 'Parent company': 'Estee Lauder', 'Lead (ppm)': 0.11}, 381: {'Brand': 'BeneFit', 'Parent company': 'LVMH Perfums & Cosmetics', 'Lead (ppm)': 0.08}, 382: {'Brand': \"L'Oreal\", 'Parent company': \"L'Oreal USA\", 'Lead (ppm)': 0.08}, 383: {'Brand': 'M.A.C', 'Parent company': 'Estee Lauder', 'Lead (ppm)': 0.08}, 384: {'Brand': 'M.A.C', 'Parent company': 'Estee Lauder', 'Lead (ppm)': 0.08}, 385: {'Brand': 'Clinique', 'Parent company': 'Estee Lauder', 'Lead (ppm)': 0.07}, 386: {'Brand': 'Clinique', 'Parent company': 'Estee Lauder', 'Lead (ppm)': 0.07}, 387: {'Brand': \"Victoria's Secret\", 'Parent company': 'Limited Brands', 'Lead (ppm)': 0.07}, 388: {'Brand': 'Bobbi Brown', 'Parent company': 'Estee Lauder', 'Lead (ppm)': 0.06}, 389: {'Brand': 'Bobbi Brown', 'Parent company': 'Estee Lauder', 'Lead (ppm)': 0.06}, 390: {'Brand': 'Fashion Fair', 'Parent company': 'Johnson Publishing Company', 'Lead (ppm)': 0.06}, 391: {'Brand': 'Fashion Fair', 'Parent company': 'Johnson Publishing Company', 'Lead (ppm)': 0.05}, 392: {'Brand': 'Iman Cosmetics', 'Parent company': 'Iman Cosmetics', 'Lead (ppm)': 0.05}, 393: {'Brand': 'M.A.C', 'Parent company': 'Estee Lauder', 'Lead (ppm)': 0.05}, 394: {'Brand': 'Lori Anne', 'Parent company': 'Mood Magic', 'Lead (ppm)': 0.05}, 395: {'Brand': 'Estee Lauder', 'Parent company': 'Estee Lauder', 'Lead (ppm)': 0.04}, 396: {'Brand': 'M.A.C', 'Parent company': 'Estee Lauder', 'Lead (ppm)': 0.03}, 397: {'Brand': 'Lori Anne', 'Parent company': 'Mood Magic', 'Lead (ppm)': 0.03}, 398: {'Brand': 'Clinique', 'Parent company': 'Estee Lauder', 'Lead (ppm)': 0.026000000000000002}, 399: {'Brand': \"L'Oreal\", 'Parent company': \"L'Oreal USA\", 'Lead (ppm)': 0.026000000000000002}, 400: {'Brand': \"Wet'n'Wild\", 'Parent company': 'Markwins International', 'Lead (ppm)': 0.026000000000000002}}\n"
     ]
    }
   ],
   "source": [
    "print(Sample_Data)"
   ]
  },
  {
   "cell_type": "code",
   "execution_count": 7,
   "metadata": {},
   "outputs": [],
   "source": [
    "great=LinkedList_Structure.LinkedList(len(Sample_Data))"
   ]
  },
  {
   "cell_type": "code",
   "execution_count": 8,
   "metadata": {},
   "outputs": [],
   "source": [
    "for key in Sample_Data.keys():\n",
    "    great.update(key,Sample_Data[key])"
   ]
  },
  {
   "cell_type": "code",
   "execution_count": 9,
   "metadata": {},
   "outputs": [
    {
     "data": {
      "text/plain": [
       "{'Brand': 'Cover Girl',\n",
       " 'Parent company': 'Procter & Gamble',\n",
       " 'Lead (ppm)': 2.56}"
      ]
     },
     "execution_count": 9,
     "metadata": {},
     "output_type": "execute_result"
    }
   ],
   "source": [
    "great.get(25)"
   ]
  },
  {
   "cell_type": "code",
   "execution_count": 10,
   "metadata": {},
   "outputs": [],
   "source": [
    "great.update(10000,'useless')"
   ]
  },
  {
   "cell_type": "code",
   "execution_count": 12,
   "metadata": {},
   "outputs": [
    {
     "data": {
      "text/plain": [
       "-1"
      ]
     },
     "execution_count": 12,
     "metadata": {},
     "output_type": "execute_result"
    }
   ],
   "source": [
    "great.get(1)"
   ]
  },
  {
   "cell_type": "code",
   "execution_count": 13,
   "metadata": {},
   "outputs": [
    {
     "data": {
      "text/plain": [
       "{'Brand': \"Wet'n'Wild\",\n",
       " 'Parent company': 'Markwins International',\n",
       " 'Lead (ppm)': 0.026000000000000002}"
      ]
     },
     "execution_count": 13,
     "metadata": {},
     "output_type": "execute_result"
    }
   ],
   "source": [
    "great.get(400)"
   ]
  },
  {
   "cell_type": "code",
   "execution_count": 14,
   "metadata": {},
   "outputs": [
    {
     "data": {
      "text/plain": [
       "{'Brand': \"L'Oreal\", 'Parent company': \"L'Oreal USA\", 'Lead (ppm)': 7.0}"
      ]
     },
     "execution_count": 14,
     "metadata": {},
     "output_type": "execute_result"
    }
   ],
   "source": [
    "great.get(2)"
   ]
  },
  {
   "cell_type": "code",
   "execution_count": 16,
   "metadata": {},
   "outputs": [],
   "source": [
    "great.update(900,'jfeiw')"
   ]
  },
  {
   "cell_type": "code",
   "execution_count": 17,
   "metadata": {},
   "outputs": [
    {
     "data": {
      "text/plain": [
       "-1"
      ]
     },
     "execution_count": 17,
     "metadata": {},
     "output_type": "execute_result"
    }
   ],
   "source": [
    "great.get(2)"
   ]
  },
  {
   "cell_type": "code",
   "execution_count": null,
   "metadata": {},
   "outputs": [],
   "source": []
  }
 ],
 "metadata": {
  "kernelspec": {
   "display_name": "Python 3",
   "language": "python",
   "name": "python3"
  },
  "language_info": {
   "codemirror_mode": {
    "name": "ipython",
    "version": 3
   },
   "file_extension": ".py",
   "mimetype": "text/x-python",
   "name": "python",
   "nbconvert_exporter": "python",
   "pygments_lexer": "ipython3",
   "version": "3.7.6"
  }
 },
 "nbformat": 4,
 "nbformat_minor": 4
}
